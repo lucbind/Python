{
 "cells": [
  {
   "cell_type": "markdown",
   "metadata": {
    "slideshow": {
     "slide_type": "fragment"
    }
   },
   "source": [
    "# Test : massive load  CSV on  Oracle \n",
    "### La tabella e' poi replicata mediante OGG verso Oracle Autonomous Database \n",
    "\n",
    "***\n"
   ]
  },
  {
   "cell_type": "code",
   "execution_count": 2,
   "metadata": {
    "slideshow": {
     "slide_type": "fragment"
    }
   },
   "outputs": [],
   "source": [
    "#librerie\n",
    "import  cx_Oracle\n",
    "import json\n",
    "import pandas as pd"
   ]
  },
  {
   "cell_type": "code",
   "execution_count": null,
   "metadata": {
    "slideshow": {
     "slide_type": "fragment"
    }
   },
   "outputs": [
    {
     "name": "stdout",
     "output_type": "stream",
     "text": [
      "ORCLPDB2 v19\n"
     ]
    }
   ],
   "source": [
    "#connessione al db leggendoli da parametri_conn_db.json\n",
    "first_db=0\n",
    "dati_db_conn = json.load(open(\"parametri_conn_db.json\"))\n",
    "for numero_db in range(0,len(dati_db_conn)):\n",
    "   nome_db=dati_db_conn[numero_db][\"nome_database\"]\n",
    "   username_db=dati_db_conn[numero_db][\"username\"]\n",
    "   password_db=dati_db_conn[numero_db][\"password\"]\n",
    "   connect_string_db=dati_db_conn[numero_db][\"connect_string\"]\n",
    "   versione_db=dati_db_conn[numero_db][\"versione\"]\n",
    "   print (nome_db,versione_db)\n",
    "   try: \n",
    "        connection = cx_Oracle.connect(username_db, password_db, connect_string_db)\n",
    "   except cx_Oracle.Error as e:\n",
    "        print(\"Errore per \" , nome_db)"
   ]
  },
  {
   "cell_type": "code",
   "execution_count": 43,
   "metadata": {
    "slideshow": {
     "slide_type": "fragment"
    }
   },
   "outputs": [],
   "source": [
    "import csv\n",
    "import time\n",
    "import datetime\n",
    "from ipywidgets import interact\n",
    "import ipywidgets as widgets\n",
    "data_csv = pd.read_csv('bank-full.csv',sep=';')\n",
    "#print (data_csv)"
   ]
  },
  {
   "cell_type": "code",
   "execution_count": 44,
   "metadata": {
    "slideshow": {
     "slide_type": "fragment"
    }
   },
   "outputs": [
    {
     "name": "stdout",
     "output_type": "stream",
     "text": [
      "data e tempo di sistema :  2019-08-02 23:15:34.211430\n",
      "Rows inserite: 45210\n",
      "finito insert\n",
      "data e tempo di sistema :  2019-08-02 23:15:34.700857\n"
     ]
    }
   ],
   "source": [
    "#massive insert\n",
    "print (\"data e tempo di sistema : \" , datetime.datetime.now())\n",
    "cur = connection.cursor()\n",
    "cur.executemany ('insert into bankfull(age,job,marital,education,defaultx,balance,housing,loan,contact,day,month,duration,compaign,pdays,previous,poutcome,y) values (:1, :2, :3, :4, :5, :6, :7, :8, :9, :10, :11, :12, :13, :14, :15, :16, :17)', data_csv.values.tolist())\n",
    "connection.commit()\n",
    "cur.close()\n",
    "print(\"Rows inserite:\", cur.rowcount)\n",
    "print(\"finito insert\")\n",
    "print (\"data e tempo di sistema : \" , datetime.datetime.now())"
   ]
  }
 ],
 "metadata": {
  "kernelspec": {
   "display_name": "Python 3",
   "language": "python",
   "name": "python3"
  },
  "language_info": {
   "codemirror_mode": {
    "name": "ipython",
    "version": 3
   },
   "file_extension": ".py",
   "mimetype": "text/x-python",
   "name": "python",
   "nbconvert_exporter": "python",
   "pygments_lexer": "ipython3",
   "version": "3.7.3"
  }
 },
 "nbformat": 4,
 "nbformat_minor": 4
}
