{
 "cells": [
  {
   "cell_type": "code",
   "execution_count": 1,
   "metadata": {},
   "outputs": [
    {
     "name": "stdout",
     "output_type": "stream",
     "text": [
      "           age      balance        day    duration  campaign      pdays  \\\n",
      "y                                                                         \n",
      "no   40.998000  1403.211750  15.948750  226.347500  2.862250  36.006000   \n",
      "yes  42.491363  1571.955854  15.658349  552.742802  2.266795  68.639155   \n",
      "\n",
      "     previous  \n",
      "y              \n",
      "no   0.471250  \n",
      "yes  1.090211  \n",
      "   age         job  marital  education default  balance housing loan  \\\n",
      "0   30  unemployed  married    primary      no     1787      no   no   \n",
      "1   33    services  married  secondary      no     4789     yes  yes   \n",
      "2   35  management   single   tertiary      no     1350     yes   no   \n",
      "\n",
      "    contact  day  ... job_entrepreneur  job_housemaid  job_management  \\\n",
      "0  cellular   19  ...                0              0               0   \n",
      "1  cellular   11  ...                0              0               0   \n",
      "2  cellular   16  ...                0              0               1   \n",
      "\n",
      "   job_retired  job_self-employed job_services job_student  job_technician  \\\n",
      "0            0                  0            0           0               0   \n",
      "1            0                  0            1           0               0   \n",
      "2            0                  0            0           0               0   \n",
      "\n",
      "   job_unemployed  job_unknown  \n",
      "0               1            0  \n",
      "1               0            0  \n",
      "2               0            0  \n",
      "\n",
      "[3 rows x 29 columns]\n",
      "   age         job  marital  education default  balance housing loan  \\\n",
      "0   30  unemployed  married    primary      no     1787      no   no   \n",
      "1   33    services  married  secondary      no     4789     yes  yes   \n",
      "2   35  management   single   tertiary      no     1350     yes   no   \n",
      "\n",
      "    contact  day  ... job_retired  job_self-employed  job_services  \\\n",
      "0  cellular   19  ...           0                  0             0   \n",
      "1  cellular   11  ...           0                  0             1   \n",
      "2  cellular   16  ...           0                  0             0   \n",
      "\n",
      "   job_student  job_technician job_unemployed job_unknown  marital_divorced  \\\n",
      "0            0               0              1           0                 0   \n",
      "1            0               0              0           0                 0   \n",
      "2            0               0              0           0                 0   \n",
      "\n",
      "   marital_married  marital_single  \n",
      "0                1               0  \n",
      "1                1               0  \n",
      "2                0               1  \n",
      "\n",
      "[3 rows x 32 columns]\n",
      "   age         job  marital  education default  balance housing loan  \\\n",
      "0   30  unemployed  married    primary      no     1787      no   no   \n",
      "1   33    services  married  secondary      no     4789     yes  yes   \n",
      "2   35  management   single   tertiary      no     1350     yes   no   \n",
      "\n",
      "    contact  day  ... job_technician  job_unemployed  job_unknown  \\\n",
      "0  cellular   19  ...              0               1            0   \n",
      "1  cellular   11  ...              0               0            0   \n",
      "2  cellular   16  ...              0               0            0   \n",
      "\n",
      "   marital_divorced  marital_married marital_single education_primary  \\\n",
      "0                 0                1              0                 1   \n",
      "1                 0                1              0                 0   \n",
      "2                 0                0              1                 0   \n",
      "\n",
      "   education_secondary  education_tertiary  education_unknown  \n",
      "0                    0                   0                  0  \n",
      "1                    1                   0                  0  \n",
      "2                    0                   1                  0  \n",
      "\n",
      "[3 rows x 36 columns]\n",
      "   age         job  marital  education default  balance housing loan  \\\n",
      "0   30  unemployed  married    primary      no     1787      no   no   \n",
      "1   33    services  married  secondary      no     4789     yes  yes   \n",
      "2   35  management   single   tertiary      no     1350     yes   no   \n",
      "\n",
      "    contact  day  ... job_unknown  marital_divorced  marital_married  \\\n",
      "0  cellular   19  ...           0                 0                1   \n",
      "1  cellular   11  ...           0                 0                1   \n",
      "2  cellular   16  ...           0                 0                0   \n",
      "\n",
      "   marital_single  education_primary education_secondary education_tertiary  \\\n",
      "0               0                  1                   0                  0   \n",
      "1               0                  0                   1                  0   \n",
      "2               1                  0                   0                  1   \n",
      "\n",
      "   education_unknown  default_no  default_yes  \n",
      "0                  0           1            0  \n",
      "1                  0           1            0  \n",
      "2                  0           1            0  \n",
      "\n",
      "[3 rows x 38 columns]\n",
      "   age         job  marital  education default  balance housing loan  \\\n",
      "0   30  unemployed  married    primary      no     1787      no   no   \n",
      "1   33    services  married  secondary      no     4789     yes  yes   \n",
      "2   35  management   single   tertiary      no     1350     yes   no   \n",
      "\n",
      "    contact  day  ... marital_married  marital_single  education_primary  \\\n",
      "0  cellular   19  ...               1               0                  1   \n",
      "1  cellular   11  ...               1               0                  0   \n",
      "2  cellular   16  ...               0               1                  0   \n",
      "\n",
      "   education_secondary  education_tertiary education_unknown default_no  \\\n",
      "0                    0                   0                 0          1   \n",
      "1                    1                   0                 0          1   \n",
      "2                    0                   1                 0          1   \n",
      "\n",
      "   default_yes  housing_no  housing_yes  \n",
      "0            0           1            0  \n",
      "1            0           0            1  \n",
      "2            0           0            1  \n",
      "\n",
      "[3 rows x 40 columns]\n",
      "   age         job  marital  education default  balance housing loan  \\\n",
      "0   30  unemployed  married    primary      no     1787      no   no   \n",
      "1   33    services  married  secondary      no     4789     yes  yes   \n",
      "2   35  management   single   tertiary      no     1350     yes   no   \n",
      "\n",
      "    contact  day  ... education_primary  education_secondary  \\\n",
      "0  cellular   19  ...                 1                    0   \n",
      "1  cellular   11  ...                 0                    1   \n",
      "2  cellular   16  ...                 0                    0   \n",
      "\n",
      "   education_tertiary  education_unknown  default_no default_yes housing_no  \\\n",
      "0                   0                  0           1           0          1   \n",
      "1                   0                  0           1           0          0   \n",
      "2                   1                  0           1           0          0   \n",
      "\n",
      "   housing_yes  loan_no  loan_yes  \n",
      "0            0        1         0  \n",
      "1            1        0         1  \n",
      "2            1        1         0  \n",
      "\n",
      "[3 rows x 42 columns]\n",
      "   age         job  marital  education default  balance housing loan  \\\n",
      "0   30  unemployed  married    primary      no     1787      no   no   \n",
      "1   33    services  married  secondary      no     4789     yes  yes   \n",
      "2   35  management   single   tertiary      no     1350     yes   no   \n",
      "\n",
      "    contact  day  ... education_unknown  default_no  default_yes  housing_no  \\\n",
      "0  cellular   19  ...                 0           1            0           1   \n",
      "1  cellular   11  ...                 0           1            0           0   \n",
      "2  cellular   16  ...                 0           1            0           0   \n",
      "\n",
      "   housing_yes loan_no loan_yes  contact_cellular  contact_telephone  \\\n",
      "0            0       1        0                 1                  0   \n",
      "1            1       0        1                 1                  0   \n",
      "2            1       1        0                 1                  0   \n",
      "\n",
      "   contact_unknown  \n",
      "0                0  \n",
      "1                0  \n",
      "2                0  \n",
      "\n",
      "[3 rows x 45 columns]\n",
      "   age         job  marital  education default  balance housing loan  \\\n",
      "0   30  unemployed  married    primary      no     1787      no   no   \n",
      "1   33    services  married  secondary      no     4789     yes  yes   \n",
      "2   35  management   single   tertiary      no     1350     yes   no   \n",
      "\n",
      "    contact  day  ... month_dec  month_feb  month_jan  month_jul  month_jun  \\\n",
      "0  cellular   19  ...         0          0          0          0          0   \n",
      "1  cellular   11  ...         0          0          0          0          0   \n",
      "2  cellular   16  ...         0          0          0          0          0   \n",
      "\n",
      "  month_mar month_may  month_nov  month_oct  month_sep  \n",
      "0         0         0          0          1          0  \n",
      "1         0         1          0          0          0  \n",
      "2         0         0          0          0          0  \n",
      "\n",
      "[3 rows x 57 columns]\n",
      "   age         job  marital  education default  balance housing loan  \\\n",
      "0   30  unemployed  married    primary      no     1787      no   no   \n",
      "1   33    services  married  secondary      no     4789     yes  yes   \n",
      "2   35  management   single   tertiary      no     1350     yes   no   \n",
      "\n",
      "    contact  day  ... month_jun  month_mar  month_may  month_nov  month_oct  \\\n",
      "0  cellular   19  ...         0          0          0          0          1   \n",
      "1  cellular   11  ...         0          0          1          0          0   \n",
      "2  cellular   16  ...         0          0          0          0          0   \n",
      "\n",
      "  month_sep poutcome_failure  poutcome_other  poutcome_success  \\\n",
      "0         0                0               0                 0   \n",
      "1         0                1               0                 0   \n",
      "2         0                1               0                 0   \n",
      "\n",
      "   poutcome_unknown  \n",
      "0                 1  \n",
      "1                 0  \n",
      "2                 0  \n",
      "\n",
      "[3 rows x 61 columns]\n"
     ]
    }
   ],
   "source": [
    "#https://towardsdatascience.com/data-handling-using-pandas-machine-learning-in-real-life-be76a697418c\n",
    "import pandas as pd\n",
    "from sklearn.linear_model import LogisticRegression\n",
    "\n",
    "\n",
    "bankdf = pd.read_csv('bank.csv',sep=';') # check the csv file before to know that 'comma' here is ';'\n",
    "\n",
    "##il csv sono i valori di una campagna di una banca fatta telefonicamente e il flag 'y' indica se la campagna a seguito un contratto oppure no \n",
    "\n",
    "out_label = bankdf.groupby('y')     #si esegue una grup by per il campo 'y' \n",
    "                                    #gia la grup by ci mostra numerosi dati numeri contratti l'eta (last call per le chiamate ) \n",
    "print (bankdf.groupby('y').mean())  #raggruppa per y e' mostra il significato (nome di colonne) mostra tutte le colonne escludendo le \n",
    "                                    #colonne che  hanno valori missing o che hanno dentro valori non int o non float dunque rimangono \n",
    "#fuori campi molto importanti come job maritl etc etc che bisogna cercare di mettere dentro \n",
    "\n",
    "cat_list = ['job','marital','education','default','housing','loan','contact','month','poutcome']\n",
    "for ele1 in cat_list:\n",
    "    add = pd.get_dummies(bankdf[ele1], prefix=ele1)  #crea una matrice con i valori dummy (quelli della lista) che sono string con  i valori tradotti \n",
    "                                                     #in int con il nome del campo modificato con nome_campo+valore \n",
    "    bankdf = bankdf.join(add)                       # aggiunge alla matrice esistente la nuova matrice \n",
    "    print (bankdf.head(3))"
   ]
  },
  {
   "cell_type": "code",
   "execution_count": null,
   "metadata": {},
   "outputs": [],
   "source": [
    "#a questo punto vanno rimosse le colonne vere e costruita una nuova  list of column senza le precedenti "
   ]
  },
  {
   "cell_type": "code",
   "execution_count": null,
   "metadata": {},
   "outputs": [],
   "source": [
    "bank_vars = bankdf.columns.values.tolist()"
   ]
  },
  {
   "cell_type": "code",
   "execution_count": null,
   "metadata": {},
   "outputs": [],
   "source": [
    "to_keep = [i for i in bank_vars if i not in cat_list]"
   ]
  },
  {
   "cell_type": "code",
   "execution_count": null,
   "metadata": {},
   "outputs": [],
   "source": [
    "print (to_keep)"
   ]
  },
  {
   "cell_type": "code",
   "execution_count": null,
   "metadata": {},
   "outputs": [],
   "source": [
    "#a questo punto i dati sono puliti per essere elaborati "
   ]
  },
  {
   "cell_type": "code",
   "execution_count": null,
   "metadata": {},
   "outputs": [],
   "source": [
    "bank_final = bankdf[to_keep]"
   ]
  },
  {
   "cell_type": "code",
   "execution_count": null,
   "metadata": {},
   "outputs": [],
   "source": [
    "print (bank_final)"
   ]
  },
  {
   "cell_type": "code",
   "execution_count": null,
   "metadata": {},
   "outputs": [],
   "source": [
    "print (bank_final.columns.values)"
   ]
  },
  {
   "cell_type": "code",
   "execution_count": null,
   "metadata": {},
   "outputs": [],
   "source": [
    "print (bank_final.columns.values.tolist())"
   ]
  },
  {
   "cell_type": "code",
   "execution_count": null,
   "metadata": {},
   "outputs": [],
   "source": [
    "bank_final_vars=bank_final.columns.values.tolist()"
   ]
  },
  {
   "cell_type": "code",
   "execution_count": null,
   "metadata": {},
   "outputs": [],
   "source": [
    "Y = ['y']\n",
    "X = [i for i in bank_final_vars if i not in Y]\n"
   ]
  },
  {
   "cell_type": "code",
   "execution_count": null,
   "metadata": {},
   "outputs": [],
   "source": [
    "print (Y)"
   ]
  },
  {
   "cell_type": "code",
   "execution_count": null,
   "metadata": {},
   "outputs": [],
   "source": [
    "print (X)"
   ]
  },
  {
   "cell_type": "code",
   "execution_count": 35,
   "metadata": {},
   "outputs": [],
   "source": [
    "model = LogisticRegression()\n"
   ]
  },
  {
   "cell_type": "code",
   "execution_count": null,
   "metadata": {},
   "outputs": [],
   "source": []
  }
 ],
 "metadata": {
  "kernelspec": {
   "display_name": "Python 3",
   "language": "python",
   "name": "python3"
  },
  "language_info": {
   "codemirror_mode": {
    "name": "ipython",
    "version": 3
   },
   "file_extension": ".py",
   "mimetype": "text/x-python",
   "name": "python",
   "nbconvert_exporter": "python",
   "pygments_lexer": "ipython3",
   "version": "3.7.3"
  }
 },
 "nbformat": 4,
 "nbformat_minor": 4
}
